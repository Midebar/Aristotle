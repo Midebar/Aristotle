{
 "cells": [
  {
   "cell_type": "markdown",
   "id": "aa29a44e",
   "metadata": {},
   "source": [
    "### SahabatAI-v1-8B-Instruct LLM run on Aristotle pipeline\n",
    "### This is run in Runpod/remote Jupyter environment"
   ]
  },
  {
   "cell_type": "code",
   "execution_count": null,
   "id": "eceed9dd",
   "metadata": {},
   "outputs": [],
   "source": [
    "!apt update"
   ]
  },
  {
   "cell_type": "code",
   "execution_count": null,
   "id": "52609db2",
   "metadata": {},
   "outputs": [],
   "source": [
    "!apt install git-lfs"
   ]
  },
  {
   "cell_type": "code",
   "execution_count": null,
   "id": "7fe6e852",
   "metadata": {},
   "outputs": [],
   "source": [
    "!pip install transformers safetensors sentencepiece huggingface-hub accelerate bitsandbytes tqdm openai backoff retrying protobuf"
   ]
  },
  {
   "cell_type": "code",
   "execution_count": null,
   "id": "dc6a2876",
   "metadata": {},
   "outputs": [],
   "source": [
    "!git lfs install"
   ]
  },
  {
   "cell_type": "code",
   "execution_count": null,
   "id": "386456b2",
   "metadata": {},
   "outputs": [],
   "source": [
    "!git clone https://huggingface.co/Sahabat-AI/llama3-8b-cpt-sahabatai-v1-instruct LLM_MODELS/llama3-8b-cpt-sahabatai-v1-instruct"
   ]
  },
  {
   "cell_type": "code",
   "execution_count": null,
   "id": "7f65d6a2",
   "metadata": {},
   "outputs": [],
   "source": [
    "import os\n",
    "\n",
    "os.environ[\"TOKENIZERS_PARALLELISM\"] = \"false\"\n",
    "######### Also useful to reduce thread contention:\n",
    "os.environ[\"OMP_NUM_THREADS\"] = \"1\"\n",
    "os.environ[\"MKL_NUM_THREADS\"] = \"1\"\n",
    "\n",
    "snapshot_path = \"/workspace/LLM_MODELS/llama3-8b-cpt-sahabatai-v1-instruct\" ############## <--- Change this based on platform and models\n",
    "#snapshot_path = \"Sahabat-AI/llama3-8b-cpt-sahabatai-v1-instruct\"\n",
    "\n",
    "os.environ[\"LOCAL_MODEL_PATH\"] = snapshot_path\n",
    "os.environ[\"LLM_MODEL\"] = snapshot_path\n",
    "\n",
    "######## enable 4-bit for quant (and bitsandbytes is set up)\n",
    "os.environ[\"LLM_LOAD_IN_4BIT\"] = \"1\"  # or \"0\" to disable quantization\n",
    "print(\"LOCAL_MODEL_PATH =\", os.environ[\"LOCAL_MODEL_PATH\"])\n",
    "print(\"LLM_MODEL =\", os.environ[\"LLM_MODEL\"])"
   ]
  },
  {
   "cell_type": "code",
   "execution_count": null,
   "id": "805bf9d7",
   "metadata": {},
   "outputs": [],
   "source": [
    "#Test for Max Time generation stopping criteria\n",
    "from llm_backends import HFBackend\n",
    "hb = HFBackend(local_model_path=snapshot_path, quantize_4bit=True)\n",
    "print(\"Calling short test (3s max_time)...\")\n",
    "res = hb.generate(\"Write a long list of words and sentences: \", max_new_tokens=1024, max_time=3.0)\n",
    "print(\"Result length:\", len(res))\n",
    "print(res[:1000])\n",
    "\n",
    "print(\"Calling short test (10s max_time)...\")\n",
    "res = hb.generate(\"Write a long list of words and sentences: \", max_new_tokens=1024, max_time=10.0)\n",
    "print(\"Result length:\", len(res))\n",
    "print(res[:1000])"
   ]
  },
  {
   "cell_type": "code",
   "execution_count": null,
   "id": "87fe3184",
   "metadata": {},
   "outputs": [],
   "source": [
    "#!python run_pipeline.py --dataset_name ProntoQA --sample_pct 0 --batch_size 1\n",
    "#print(\"\\nFinished translating dataset\\n\")"
   ]
  },
  {
   "cell_type": "code",
   "execution_count": null,
   "id": "6614817f",
   "metadata": {},
   "outputs": [],
   "source": [
    "os.environ[\"LLM_WORKER_MAX_TIME\"] = \"450\"  # Change this every process (translate, decompose, search_resolve), different time limit is needed in seconds.\n",
    "\n",
    "# With original prompts\n",
    "!python translate_to_fol.py --data_path manual_data_translated --dataset_name ProntoQA --sample_pct 0 --prompts_folder manual_prompts_translated --prompts_file translation --split dev --save_path results_translated/prompts_original --model_name $LLM_MODEL --batch_num 1 --max_new_tokens 8000\n"
   ]
  },
  {
   "cell_type": "code",
   "execution_count": null,
   "id": "187014c3",
   "metadata": {},
   "outputs": [],
   "source": [
    "# With modified prompts\n",
    "!python translate_to_fol.py --data_path manual_data_translated --dataset_name ProntoQA --sample_pct 100 --prompts_folder manual_prompts_translated --prompts_file translation_modified --split dev --save_path results_translated/prompts_modified --model_name $LLM_MODEL --batch_num 1 --max_new_tokens 8000"
   ]
  },
  {
   "cell_type": "code",
   "execution_count": null,
   "id": "bfc9281e",
   "metadata": {},
   "outputs": [],
   "source": [
    "# With refined prompts\n",
    "!python translate_to_fol.py --data_path manual_data_translated --dataset_name ProntoQA --sample_pct 100 --prompts_folder manual_prompts_translated --prompts_file translation_refine --split dev --save_path results_translated/prompts_refine --model_name $LLM_MODEL --batch_num 1 --max_new_tokens 8000"
   ]
  },
  {
   "cell_type": "code",
   "execution_count": null,
   "id": "10865d69",
   "metadata": {},
   "outputs": [],
   "source": [
    "os.environ[\"LLM_WORKER_MAX_TIME\"] = \"900\"\n",
    "\n",
    "#!python decompose_to_cnf.py --data_path manual_data_translated --dataset_name ProntoQA --prompts_folder manual_prompts_translated --split dev --save_path results_translated --model_name /workspace/LLM_MODELS/llama3-8b-cpt-sahabatai-v1-instruct --batch_num 1 --max_new_tokens 8000"
   ]
  },
  {
   "cell_type": "code",
   "execution_count": null,
   "id": "f5d376b3",
   "metadata": {},
   "outputs": [],
   "source": [
    "#!python negate.py --dataset_name ProntoQA --save_path results_translated --model_name /workspace/LLM_MODELS/llama3-8b-cpt-sahabatai-v1-instruct"
   ]
  },
  {
   "cell_type": "code",
   "execution_count": null,
   "id": "f08f84a8",
   "metadata": {},
   "outputs": [],
   "source": [
    "#!python search_resolve.py --data_path manual_data_translate --dataset_name ProntoQA --prompts_folder manual_prompts_translated --split dev --save_path results_translated --model_name /workspace/LLM_MODELS/llama3-8b-cpt-sahabatai-v1-instruct --batch_num 1 --negation False --max_new_tokens 8000"
   ]
  },
  {
   "cell_type": "code",
   "execution_count": null,
   "id": "1f0bc72d",
   "metadata": {},
   "outputs": [],
   "source": [
    "#!python search_resolve.py --data_path manual_data_translate --dataset_name ProntoQA --prompts_folder manual_prompts_translated --split dev --save_path results_translated --model_name /workspace/LLM_MODELS/llama3-8b-cpt-sahabatai-v1-instruct --batch_num 1 --negation True --max_new_tokens 8000"
   ]
  },
  {
   "cell_type": "code",
   "execution_count": null,
   "id": "725ec0be",
   "metadata": {},
   "outputs": [],
   "source": [
    "#!python evaluate.py --dataset_name ProntoQA --save_path results_translated --model_name /workspace/LLM_MODELS/llama3-8b-cpt-sahabatai-v1-instruct"
   ]
  }
 ],
 "metadata": {
  "kernelspec": {
   "display_name": "venv",
   "language": "python",
   "name": "python3"
  },
  "language_info": {
   "codemirror_mode": {
    "name": "ipython",
    "version": 3
   },
   "file_extension": ".py",
   "mimetype": "text/x-python",
   "name": "python",
   "nbconvert_exporter": "python",
   "pygments_lexer": "ipython3",
   "version": "3.10.0"
  }
 },
 "nbformat": 4,
 "nbformat_minor": 5
}
