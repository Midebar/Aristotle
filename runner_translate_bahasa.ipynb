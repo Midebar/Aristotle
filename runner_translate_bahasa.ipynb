{
 "cells": [
  {
   "cell_type": "markdown",
   "id": "aa29a44e",
   "metadata": {},
   "source": [
    "### English to Bahasa Translation using SeaLion-v3-9b-IT instruction tuned LLM based on Gemma2\n",
    "### This is run in Runpod/remote Jupyter environment"
   ]
  },
  {
   "cell_type": "code",
   "execution_count": null,
   "id": "7fe6e852",
   "metadata": {
    "vscode": {
     "languageId": "plaintext"
    }
   },
   "outputs": [],
   "source": [
    "!pip install transformers safetensors sentencepiece huggingface-hub accelerate bitsandbytes tqdm openai backoff retrying protobuf"
   ]
  },
  {
   "cell_type": "code",
   "execution_count": null,
   "id": "dc6a2876",
   "metadata": {
    "vscode": {
     "languageId": "plaintext"
    }
   },
   "outputs": [],
   "source": [
    "!git lfs install\n",
    "!git clone https://huggingface.co/aisingapore/Gemma-SEA-LION-v3-9B-IT LLM_MODELS/Gemma-SEA-LION-v3-9B-IT"
   ]
  },
  {
   "cell_type": "code",
   "execution_count": null,
   "id": "7f65d6a2",
   "metadata": {
    "vscode": {
     "languageId": "plaintext"
    }
   },
   "outputs": [],
   "source": [
    "import os\n",
    "from pathlib import Path\n",
    "\n",
    "os.environ[\"TOKENIZERS_PARALLELISM\"] = \"false\"\n",
    "######### Also useful to reduce thread contention:\n",
    "os.environ[\"OMP_NUM_THREADS\"] = \"1\"\n",
    "os.environ[\"MKL_NUM_THREADS\"] = \"1\"\n",
    "\n",
    "snapshot_path = \"workspace/LLM_MODELS/Gemma-SEA-LION-v3-9B-IT\" ############## <--- Change this based on platform and models\n",
    "\n",
    "os.environ[\"LOCAL_MODEL_PATH\"] = snapshot_path\n",
    "######### set LLM_MODEL to the same path\n",
    "os.environ[\"LLM_MODEL\"] = snapshot_path\n",
    "\n",
    "######## enable 4-bit for quant (and bitsandbytes is set up)\n",
    "os.environ[\"LLM_LOAD_IN_4BIT\"] = \"1\"  # or \"0\" to disable quantization\n",
    "\n",
    "print(\"LOCAL_MODEL_PATH =\", os.environ[\"LOCAL_MODEL_PATH\"])\n",
    "print(\"LLM_MODEL =\", os.environ[\"LLM_MODEL\"])"
   ]
  },
  {
   "cell_type": "code",
   "execution_count": null,
   "id": "bcecac1d",
   "metadata": {
    "vscode": {
     "languageId": "plaintext"
    }
   },
   "outputs": [],
   "source": [
    "######### Quick test generation using existing HFBackend\n",
    "\n",
    "from llm_backends import HFBackend\n",
    "import os, traceback\n",
    "\n",
    "local_path = os.environ.get(\"LOCAL_MODEL_PATH\")\n",
    "print(\"Using local_path:\", local_path)\n",
    "\n",
    "try:\n",
    "    ######### create backend that points to the local model path (this uses the existing class)\n",
    "    backend = HFBackend(local_model_path=local_path, hf_model_id=None, quantize_4bit=(os.environ.get(\"LLM_LOAD_IN_4BIT\",\"0\")==\"1\"))\n",
    "    print(\"HFBackend initialized OK\")\n",
    "    print(\"Tokenizer pad_token_id:\", getattr(backend.tokenizer, \"pad_token_id\", None))\n",
    "    print(\"Model device:\", getattr(backend, \"device\", None))\n",
    "    ######### test small generation\n",
    "    prompt = \"Translate to formal logic: If it rains, the ground will be wet.\"\n",
    "    out = backend.generate(prompt, max_new_tokens=200, temperature=0.0, top_p=1.0, do_sample=False)\n",
    "    print(\"=== GENERATION ===\")\n",
    "    print(out[:2000])\n",
    "except Exception as e:\n",
    "    print(\"HFBackend init / generate failed:\")\n",
    "    traceback.print_exc()\n",
    "\n",
    "print(\"Finished generating/testing\")"
   ]
  },
  {
   "cell_type": "code",
   "execution_count": null,
   "id": "87fe3184",
   "metadata": {
    "vscode": {
     "languageId": "plaintext"
    }
   },
   "outputs": [],
   "source": [
    "!python translate_dataset.py --dataset_name ProntoQA --split dev --sample-pct 10 --batch_size 1\n",
    "print(\"\\nFinished translating dataset\\n\")"
   ]
  }
 ],
 "metadata": {
  "language_info": {
   "name": "python"
  }
 },
 "nbformat": 4,
 "nbformat_minor": 5
}
